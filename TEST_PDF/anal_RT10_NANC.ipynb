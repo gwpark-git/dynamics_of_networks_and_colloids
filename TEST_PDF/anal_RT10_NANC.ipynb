{
 "cells": [
  {
   "cell_type": "code",
   "execution_count": 1,
   "metadata": {
    "collapsed": true
   },
   "outputs": [],
   "source": [
    "from numpy import *\n",
    "%matplotlib inline\n",
    "import matplotlib.pyplot as plt"
   ]
  },
  {
   "cell_type": "code",
   "execution_count": 2,
   "metadata": {
    "collapsed": true
   },
   "outputs": [],
   "source": [
    "ener_NP0800 = loadtxt('NP0800_LD20P3_C025_RT10_PDF_NANC/NP0800_LD20P3_C025_RT10_PDF_NANC.ener')\n",
    "ener_NP1600 = loadtxt('NP1600_LD20P3_C025_RT10_PDF_NANC/NP1600_LD20P3_C025_RT10_PDF_NANC.ener')\n",
    "ener_NP2400 = loadtxt('NP2400_LD20P3_C025_RT10_PDF_NANC/NP2400_LD20P3_C025_RT10_PDF_NANC.ener')"
   ]
  },
  {
   "cell_type": "code",
   "execution_count": 3,
   "metadata": {
    "collapsed": true
   },
   "outputs": [],
   "source": [
    "Nc = 10.\n",
    "C_rep = 25.\n",
    "Rt = 10.\n",
    "t_NP0800 = ener_NP0800[:,0]/(C_rep*Rt)\n",
    "t_NP1600 = ener_NP1600[:,0]/(C_rep*Rt)\n",
    "t_NP2400 = ener_NP2400[:,0]/(C_rep*Rt)\n",
    "fNAS_NP0800 = 100.*ener_NP0800[:,4]/(Nc*800.)\n",
    "fNAS_NP1600 = 100.*ener_NP1600[:,4]/(Nc*800.)\n",
    "fNAS_NP2400 = 100.*ener_NP2400[:,4]/(Nc*800.)\n",
    "\n"
   ]
  },
  {
   "cell_type": "code",
   "execution_count": null,
   "metadata": {
    "collapsed": true
   },
   "outputs": [],
   "source": []
  }
 ],
 "metadata": {
  "kernelspec": {
   "display_name": "Python 2",
   "language": "python",
   "name": "python2"
  },
  "language_info": {
   "codemirror_mode": {
    "name": "ipython",
    "version": 2
   },
   "file_extension": ".py",
   "mimetype": "text/x-python",
   "name": "python",
   "nbconvert_exporter": "python",
   "pygments_lexer": "ipython2",
   "version": "2.7.12"
  }
 },
 "nbformat": 4,
 "nbformat_minor": 0
}
